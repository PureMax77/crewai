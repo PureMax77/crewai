{
 "cells": [
  {
   "cell_type": "code",
   "execution_count": null,
   "metadata": {},
   "outputs": [],
   "source": [
    "import os\n",
    "from dotenv import load_dotenv\n",
    "\n",
    "load_dotenv()\n",
    "\n",
    "os.environ[\"OPENAI_MODEL_NAME\"] = \"gpt-4o\""
   ]
  },
  {
   "cell_type": "code",
   "execution_count": null,
   "metadata": {},
   "outputs": [],
   "source": [
    "from pydantic import BaseModel\n",
    "from typing import List\n",
    "\n",
    "class SubSection(BaseModel):\n",
    "  title: str\n",
    "  content: str\n",
    "\n",
    "class BlogPost(BaseModel):\n",
    "  title: str\n",
    "  introduction: str\n",
    "  sections: List[SubSection]\n",
    "  sources: List[str]\n",
    "  hashtags: List[str]"
   ]
  },
  {
   "cell_type": "code",
   "execution_count": null,
   "metadata": {},
   "outputs": [],
   "source": [
    "from crewai import Crew, Agent, Task\n",
    "from crewai_tools import SerperDevTool, ScrapeWebsiteTool\n",
    "\n",
    "search_tool = SerperDevTool()\n",
    "scrape_tool = ScrapeWebsiteTool()\n",
    "\n",
    "researcher = Agent(\n",
    "    role=\"Senior Researcher\",\n",
    "    goal=\"Search the web, extract and analyze information.\",\n",
    "    backstory=\"\"\"\n",
    "    You produce the highest quality research possible.\n",
    "    You use multiple sources of information and you always double check your sources to make sure they are true and up to date.\n",
    "    You want to impress your coworkers with your work.\n",
    "    \"\"\",\n",
    "    allow_delegation=False,\n",
    "    verbose=True,\n",
    "    tools=[\n",
    "        search_tool,\n",
    "        scrape_tool,\n",
    "    ],\n",
    "    max_iter=10,\n",
    ")\n",
    "\n",
    "editor = Agent(\n",
    "    role=\"Senior Writer/Editor\",\n",
    "    goal=\"Write engaging blog posts.\",\n",
    "    backstory=\"\"\"\n",
    "    You write content that keeps people engaged and entertained.\n",
    "    Your content is easy to read it is informative and it makes people want to share it with their friends.\n",
    "    You are working for a very important client.\n",
    "    \"\"\",\n",
    "    verbose=True,\n",
    ")\n",
    "\n",
    "task = Task(\n",
    "    description=\"Write a blog post about {topic}\",\n",
    "    agent=editor,\n",
    "    expected_output=\"A blog post with an introduction, at least three sub-sections of content, links to sources, a set of suggested hashtags for social media and a catchy title. The final result must be provided in Korean.\",\n",
    "    output_file=\"blog_post.md\",\n",
    "    output_pydantic=BlogPost,\n",
    ")\n",
    "\n",
    "crew = Crew(\n",
    "  agents=[researcher, editor],tasks=[task], verbose=2\n",
    ")\n",
    "\n",
    "result = crew.kickoff(inputs=dict(topic=\"물리적 작업부하 같은 인간공학 실험을 진행할 때 보편적으로 고려되야할 실험 프로토콜\"))"
   ]
  },
  {
   "cell_type": "code",
   "execution_count": 15,
   "metadata": {},
   "outputs": [
    {
     "data": {
      "text/plain": [
       "SubSection(title='주관적 방법', content='주관적 방법은 인터뷰와 설문지를 통해 작업자들에게 영향을 미치는 신체적 및 심리사회적 요소를 수집하는 방식입니다. 이 방법은 신속하게 데이터를 수집할 수 있지만, 물리적 작업부하를 평가하는 데 있어 낮은 타당성을 가질 수 있습니다.')"
      ]
     },
     "execution_count": 15,
     "metadata": {},
     "output_type": "execute_result"
    }
   ],
   "source": [
    "result.sections[0]"
   ]
  }
 ],
 "metadata": {
  "kernelspec": {
   "display_name": "venv",
   "language": "python",
   "name": "python3"
  },
  "language_info": {
   "codemirror_mode": {
    "name": "ipython",
    "version": 3
   },
   "file_extension": ".py",
   "mimetype": "text/x-python",
   "name": "python",
   "nbconvert_exporter": "python",
   "pygments_lexer": "ipython3",
   "version": "3.12.3"
  }
 },
 "nbformat": 4,
 "nbformat_minor": 2
}
